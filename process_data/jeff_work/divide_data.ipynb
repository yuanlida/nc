{
 "cells": [
  {
   "cell_type": "code",
   "execution_count": 2,
   "outputs": [],
   "source": [
    "# import\n",
    "in_file = \"/Users/macos/thunder/ner-tf/cls_data/clean.txt\"\n",
    "out_train = \"/Users/macos/thunder/ner-tf/jeff_work/process_data/out_train.txt\"\n",
    "out_test = \"/Users/macos/thunder/ner-tf/jeff_work/process_data/out_test.txt\"\n",
    "out_sample = \"/Users/macos/thunder/ner-tf/jeff_work/process_data/out_sample.txt\"\n",
    "\n",
    "org_file1 = \"/Users/macos/thunder/ner-tf/edison_corpus/ORG_all.txt\"\n",
    "org_train1 = \"/Users/macos/thunder/ner-tf/edo_data/split/org_train1.txt\"\n",
    "org_test1 = \"/Users/macos/thunder/ner-tf/edo_data/split/org_test1.txt\"\n",
    "\n",
    "\n",
    "\n",
    "per_file = \"/Users/macos/thunder/ner-tf/edison_corpus/PER_all.txt\"\n",
    "per_train = \"/Users/macos/thunder/ner-tf/edo_data/split/per_train.txt\"\n",
    "per_test = \"/Users/macos/thunder/ner-tf/edo_data/split/per_test.txt\"\n",
    "\n",
    "male_file = \"/Users/macos/thunder/ner-tf/edison_corpus/male_tag.txt\"\n",
    "male_train = \"/Users/macos/thunder/ner-tf/edo_data/split/male_train.txt\"\n",
    "male_test = \"/Users/macos/thunder/ner-tf/edo_data/split/male_test.txt\"\n",
    "\n",
    "female_file = \"/Users/macos/thunder/ner-tf/edison_corpus/female_tag.txt\"\n",
    "female_train = \"/Users/macos/thunder/ner-tf/edo_data/split/female_train.txt\"\n",
    "female_test = \"/Users/macos/thunder/ner-tf/edo_data/split/female_test.txt\"\n",
    "\n",
    "\n",
    "# loc_file = \"/Users/macos/thunder/ner-tf/edison_corpus/LOC_cb.txt\"\n",
    "loc_file = \"/Users/macos/thunder/ner-tf/edison_corpus/LOC_all\"\n",
    "loc_train = \"/Users/macos/thunder/ner-tf/edo_data/split/loc_train.txt\"\n",
    "loc_test = \"/Users/macos/thunder/ner-tf/edo_data/split/loc_test.txt\"\n",
    "\n",
    "\n",
    "tel_file = \"/Users/macos/thunder/ner-tf/edison_corpus/TEL_cb.txt\"\n",
    "tel_train = \"/Users/macos/thunder/ner-tf/edo_data/split/tel_train.txt\"\n",
    "tel_test = \"/Users/macos/thunder/ner-tf/edo_data/split/tel_test.txt\"\n",
    "\n",
    "\n",
    "tit_file = \"/Users/macos/thunder/ner-tf/edison_corpus/TIT_cb.txt\"\n",
    "tit_train = \"/Users/macos/thunder/ner-tf/edo_data/split/tit_train.txt\"\n",
    "tit_test = \"/Users/macos/thunder/ner-tf/edo_data/split/tit_test.txt\"\n",
    "\n",
    "enron_file = \"/Users/macos/thunder/ner-tf/edo_data/hold2.txt\"\n",
    "enron_train = \"/Users/macos/thunder/ner-tf/edo_data/split/enron_train.txt\"\n",
    "enron_test = \"/Users/macos/thunder/ner-tf/edo_data/split/enron_test.txt\"\n",
    "\n",
    "\n",
    "\n",
    "train_file = \"/Users/macos/thunder/ner-tf/edo_data/train.txt\"\n",
    "test_file = \"/Users/macos/thunder/ner-tf/edo_data/test.txt\"\n",
    "from tqdm import tqdm"
   ],
   "metadata": {
    "collapsed": false,
    "pycharm": {
     "name": "#%%\n",
     "is_executing": false
    }
   }
  },
  {
   "cell_type": "code",
   "execution_count": 3,
   "outputs": [
    {
     "name": "stderr",
     "text": [
      "100%|██████████| 29615/29615 [00:00<00:00, 166483.02it/s]\n"
     ],
     "output_type": "stream"
    },
    {
     "name": "stdout",
     "text": [
      "train_lines: 28135\n",
      "test_lines: 1480\n",
      "sample_lines: 296\n",
      "ok\n"
     ],
     "output_type": "stream"
    }
   ],
   "source": [
    "# in_file = '/Users/macos/thunder/ner-tf/cls_data/extra/fake_name.txt'\n",
    "## random\n",
    "with open (in_file, 'r') as r, open(out_train, 'w') as n, \\\n",
    "        open(out_sample, 'w') as s, open(out_test, 'w') as t:\n",
    "    total = (r.readlines())\n",
    "    train_lines = 0\n",
    "    test_lines= 0\n",
    "    sample_lines = 0\n",
    "    # print(len(total))\n",
    "    for i, line in enumerate(tqdm(total)):\n",
    "        if i < (len(total)*0.95):\n",
    "            n.writelines(line)\n",
    "            train_lines += 1\n",
    "        else:\n",
    "            t.writelines(line)\n",
    "            test_lines += 1\n",
    "            if i > (len(total)*0.99):\n",
    "                s.writelines(line)\n",
    "                sample_lines+=1\n",
    "        #     test_lines += 1\n",
    "\n",
    "print(\"train_lines: \" + str(train_lines))\n",
    "print(\"test_lines: \" + str(test_lines))\n",
    "print(\"sample_lines: \" + str(sample_lines))\n",
    "\n",
    "print('ok')"
   ],
   "metadata": {
    "collapsed": false,
    "pycharm": {
     "name": "#%%\n",
     "is_executing": false
    }
   }
  },
  {
   "cell_type": "code",
   "execution_count": 2,
   "outputs": [
    {
     "name": "stdout",
     "text": [
      "train_lines: 1246150\n",
      "test_lines: 311537\n",
      "ok\n"
     ],
     "output_type": "stream"
    }
   ],
   "source": [
    "## org 1\n",
    "with open (org_file1, 'r') as r, open(org_train1, 'w') as n, open(org_test1, 'w') as t:\n",
    "    total = (r.readlines())\n",
    "    train_lines = 0\n",
    "    test_lines= 0\n",
    "    # print(len(total))\n",
    "    for i, line in enumerate(total):\n",
    "        if i < (len(total)*0.8):\n",
    "            n.writelines(line)\n",
    "            train_lines += 1\n",
    "        else:\n",
    "            t.writelines(line)\n",
    "            test_lines += 1\n",
    "            \n",
    "        # if i < (len(total)*0.008):\n",
    "        #     n.writelines(line)\n",
    "        #     train_lines += 1\n",
    "        # elif (len(total)*0.008) < i < (len(total)*0.01):\n",
    "        #     t.writelines(line)\n",
    "        #     test_lines += 1\n",
    "        # else:\n",
    "        #     break\n",
    "        # else:\n",
    "        #     t.writelines(line)\n",
    "        #     test_lines += 1\n",
    "\n",
    "print(\"train_lines: \" + str(train_lines))\n",
    "print(\"test_lines: \" + str(test_lines))\n",
    "print('ok')"
   ],
   "metadata": {
    "collapsed": false,
    "pycharm": {
     "name": "#%%\n",
     "is_executing": false
    }
   }
  },
  {
   "cell_type": "code",
   "execution_count": 5,
   "outputs": [
    {
     "name": "stdout",
     "text": [
      "train_lines: 582839\n",
      "test_lines: 145709\n",
      "ok\n"
     ],
     "output_type": "stream"
    }
   ],
   "source": [
    "## per\n",
    "with open (per_file, 'r', encoding = 'utf-8') as r, open(per_train, 'w') as n, open(per_test, 'w') as t:\n",
    "    train_lines = 0\n",
    "    test_lines= 0\n",
    "    total = (r.readlines())\n",
    "    # print(len(total))\n",
    "    for i, line in enumerate(total):\n",
    "        \n",
    "        if i < (len(total)*0.8):\n",
    "            n.writelines(line)\n",
    "            train_lines += 1\n",
    "        else:\n",
    "            t.writelines(line)\n",
    "            test_lines += 1\n",
    "            \n",
    "            \n",
    "print(\"train_lines: \" + str(train_lines))\n",
    "print(\"test_lines: \" + str(test_lines))\n",
    "print('ok')"
   ],
   "metadata": {
    "collapsed": false,
    "pycharm": {
     "name": "#%%\n",
     "is_executing": false
    }
   }
  },
  {
   "cell_type": "code",
   "execution_count": 20,
   "outputs": [
    {
     "name": "stdout",
     "text": [
      "train_lines: 8002\n",
      "test_lines: 2000\n",
      "ok\n"
     ],
     "output_type": "stream"
    }
   ],
   "source": [
    "## per female\n",
    "with open (female_file, 'r', encoding = 'utf-8') as r, open(female_train, 'w') as n, open(female_test, 'w') as t:\n",
    "    train_lines = 0\n",
    "    test_lines= 0\n",
    "    total = (r.readlines())\n",
    "    # print(len(total))\n",
    "    for i, line in enumerate(total):\n",
    "        if i < (len(total)*0.8):\n",
    "            n.writelines(line)\n",
    "            train_lines += 1\n",
    "        # elif (len(total)*0.008) < i < (len(total)*0.01):\n",
    "        #     t.writelines(line)\n",
    "        #     test_lines += 1\n",
    "        else:\n",
    "            t.writelines(line)\n",
    "            test_lines += 1\n",
    "print(\"train_lines: \" + str(train_lines))\n",
    "print(\"test_lines: \" + str(test_lines))\n",
    "print('ok')"
   ],
   "metadata": {
    "collapsed": false,
    "pycharm": {
     "name": "#%%\n",
     "is_executing": false
    }
   }
  },
  {
   "cell_type": "code",
   "execution_count": 21,
   "outputs": [
    {
     "name": "stdout",
     "text": [
      "train_lines: 4709\n",
      "test_lines: 1177\n",
      "ok\n"
     ],
     "output_type": "stream"
    }
   ],
   "source": [
    "## per male\n",
    "with open (male_file, 'r', encoding = 'utf-8') as r, open(male_train, 'w') as n, open(male_test, 'w') as t:\n",
    "    train_lines = 0\n",
    "    test_lines= 0\n",
    "    total = (r.readlines())\n",
    "    # print(len(total))\n",
    "    for i, line in enumerate(total):\n",
    "        if i < (len(total)*0.8):\n",
    "            n.writelines(line)\n",
    "            train_lines += 1\n",
    "        else:\n",
    "            t.writelines(line)\n",
    "            test_lines += 1\n",
    "            \n",
    "print(\"train_lines: \" + str(train_lines))\n",
    "print(\"test_lines: \" + str(test_lines))\n",
    "print('ok')"
   ],
   "metadata": {
    "collapsed": false,
    "pycharm": {
     "name": "#%%\n",
     "is_executing": false
    }
   }
  },
  {
   "cell_type": "code",
   "execution_count": 30,
   "outputs": [
    {
     "name": "stdout",
     "text": [
      "train_lines: 1148682\n",
      "test_lines: 287170\n",
      "ok\n"
     ],
     "output_type": "stream"
    }
   ],
   "source": [
    "## loc\n",
    "with open (loc_file, 'r') as r, open(loc_train, 'w') as n, open(loc_test, 'w') as t:\n",
    "    train_lines = 0\n",
    "    test_lines= 0\n",
    "    total = (r.readlines())\n",
    "    # print(len(total))\n",
    "    for i, line in enumerate(total):\n",
    "        if i < (len(total)*0.8): #0.16\n",
    "            n.writelines(line)\n",
    "            train_lines += 1\n",
    "        # elif (len(total)*0.16) < i < (len(total)*0.20):\n",
    "        #     t.writelines(line)\n",
    "        #     test_lines += 1\n",
    "        # else:\n",
    "        #     break\n",
    "        else:\n",
    "            t.writelines(line)\n",
    "            test_lines += 1\n",
    "            \n",
    "            \n",
    "print(\"train_lines: \" + str(train_lines))\n",
    "print(\"test_lines: \" + str(test_lines))\n",
    "print('ok')     \n",
    "            "
   ],
   "metadata": {
    "collapsed": false,
    "pycharm": {
     "name": "#%%\n",
     "is_executing": false
    }
   }
  },
  {
   "cell_type": "code",
   "execution_count": 43,
   "outputs": [
    {
     "name": "stdout",
     "text": [
      "train_lines: 5233\n",
      "test_lines: 1308\n",
      "ok\n"
     ],
     "output_type": "stream"
    }
   ],
   "source": [
    "## tel\n",
    "with open (tel_file, 'r') as r, open(tel_train, 'w') as n, open(tel_test, 'w') as t:\n",
    "    train_lines = 0\n",
    "    test_lines= 0\n",
    "    total = (r.readlines())\n",
    "    # print(len(total))\n",
    "    for i, line in enumerate(total):\n",
    "        if i < (len(total)*0.8):\n",
    "            n.writelines(line)\n",
    "            train_lines += 1\n",
    "        else:\n",
    "            t.writelines(line)\n",
    "            test_lines += 1\n",
    "            \n",
    "print(\"train_lines: \" + str(train_lines))\n",
    "print(\"test_lines: \" + str(test_lines))            \n",
    "print('ok')        \n",
    "    "
   ],
   "metadata": {
    "collapsed": false,
    "pycharm": {
     "name": "#%%\n",
     "is_executing": false
    }
   }
  },
  {
   "cell_type": "code",
   "execution_count": 45,
   "outputs": [
    {
     "name": "stdout",
     "text": [
      "train_lines: 3508\n",
      "test_lines: 876\n",
      "ok\n"
     ],
     "output_type": "stream"
    }
   ],
   "source": [
    "## tit\n",
    "with open (tit_file, 'r') as tf, open(tit_train, 'w') as tn, open(tit_test, 'w') as tt:\n",
    "    train_lines = 0\n",
    "    test_lines= 0\n",
    "    total = (tf.readlines())\n",
    "    # print(len(total))\n",
    "    for i, line in enumerate(total):\n",
    "        if i < (len(total)*0.8):\n",
    "            tn.writelines(line)\n",
    "            train_lines += 1\n",
    "        else:\n",
    "            tt.writelines(line)\n",
    "            test_lines += 1\n",
    "            \n",
    "print(\"train_lines: \" + str(train_lines))\n",
    "print(\"test_lines: \" + str(test_lines))    \n",
    "print('ok')"
   ],
   "metadata": {
    "collapsed": false,
    "pycharm": {
     "name": "#%%\n",
     "is_executing": false
    }
   }
  },
  {
   "cell_type": "code",
   "execution_count": 4,
   "outputs": [
    {
     "name": "stdout",
     "text": [
      "train_lines: 1200\n",
      "test_lines: 299\n",
      "ok\n"
     ],
     "output_type": "stream"
    }
   ],
   "source": [
    "## enron\n",
    "with open (enron_file, 'r') as tf, open(enron_train, 'w') as tn, open(enron_test, 'w') as tt:\n",
    "    train_lines = 0\n",
    "    test_lines= 0\n",
    "    total = (tf.readlines())\n",
    "    # print(len(total))\n",
    "    for i, line in enumerate(total):\n",
    "        if i < (len(total)*0.8):\n",
    "            tn.writelines(line)\n",
    "            train_lines += 1\n",
    "        else:\n",
    "            tt.writelines(line)\n",
    "            test_lines += 1\n",
    "            \n",
    "print(\"train_lines: \" + str(train_lines))\n",
    "print(\"test_lines: \" + str(test_lines))    \n",
    "print('ok')"
   ],
   "metadata": {
    "collapsed": false,
    "pycharm": {
     "name": "#%%\n",
     "is_executing": false
    }
   }
  },
  {
   "cell_type": "code",
   "execution_count": 26,
   "outputs": [
    {
     "name": "stdout",
     "text": [
      "/Users/macos/thunder/ner-tf/edo_data/split/org_test.txt\n",
      "/Users/macos/thunder/ner-tf/edo_data/split/male_test.txt\n",
      "/Users/macos/thunder/ner-tf/edo_data/split/tit_train.txt\n",
      "/Users/macos/thunder/ner-tf/edo_data/split/male_train.txt\n",
      "/Users/macos/thunder/ner-tf/edo_data/split/org_train1.txt\n",
      "/Users/macos/thunder/ner-tf/edo_data/split/female_train.txt\n",
      "/Users/macos/thunder/ner-tf/edo_data/split/female_test.txt\n",
      "/Users/macos/thunder/ner-tf/edo_data/split/loc_train.txt\n",
      "/Users/macos/thunder/ner-tf/edo_data/split/tel_train.txt\n",
      "/Users/macos/thunder/ner-tf/edo_data/split/tel_test.txt\n",
      "/Users/macos/thunder/ner-tf/edo_data/split/org_train.txt\n",
      "/Users/macos/thunder/ner-tf/edo_data/split/tit_test.txt\n",
      "/Users/macos/thunder/ner-tf/edo_data/split/loc_test.txt\n",
      "/Users/macos/thunder/ner-tf/edo_data/split/org_test1.txt\n",
      "ok\n"
     ],
     "output_type": "stream"
    }
   ],
   "source": [
    "##combine train\n",
    "import glob\n",
    "\n",
    "read_files = glob.glob(\"/Users/macos/thunder/ner-tf/edo_data/split/*.txt\")\n",
    "\n",
    "with open(train_file, \"w\", encoding = 'utf-8') as outfile:\n",
    "    for f in read_files:\n",
    "        if (f != \"/Users/macos/thunder/ner-tf/edo_data/split/per_train.txt\") \\\n",
    "                or (f != \"/Users/macos/thunder/ner-tf/edo_data/split/per_test.txt\"):\n",
    "            print(f)\n",
    "            with open(f, \"r\") as infile:\n",
    "                outfile.write(infile.read())\n",
    "print('ok')"
   ],
   "metadata": {
    "collapsed": false,
    "pycharm": {
     "name": "#%%\n",
     "is_executing": false
    }
   }
  },
  {
   "cell_type": "code",
   "execution_count": 3,
   "outputs": [
    {
     "name": "stdout",
     "text": [
      "/Users/macos/thunder/ner-tf/edo_data/split/per_test.txt\n",
      "/Users/macos/thunder/ner-tf/edo_data/split/org_test.txt\n",
      "/Users/macos/thunder/ner-tf/edo_data/split/male_test.txt\n",
      "/Users/macos/thunder/ner-tf/edo_data/split/female_test.txt\n",
      "/Users/macos/thunder/ner-tf/edo_data/split/enron_test.txt\n",
      "/Users/macos/thunder/ner-tf/edo_data/split/tel_test.txt\n",
      "/Users/macos/thunder/ner-tf/edo_data/split/tit_test.txt\n",
      "/Users/macos/thunder/ner-tf/edo_data/split/loc_test.txt\n",
      "ok\n"
     ],
     "output_type": "stream"
    }
   ],
   "source": [
    "## combine test\n",
    "import glob\n",
    "\n",
    "read_files = glob.glob(\"/Users/macos/thunder/ner-tf/edo_data/split/*test.txt\")\n",
    "\n",
    "with open(test_file, \"w\") as outfile:\n",
    "    for f in read_files:\n",
    "        print(f)\n",
    "        with open(f, \"r\") as infile:\n",
    "            outfile.write(infile.read())\n",
    "print('ok')"
   ],
   "metadata": {
    "collapsed": false,
    "pycharm": {
     "name": "#%%\n",
     "is_executing": false
    }
   }
  },
  {
   "cell_type": "code",
   "execution_count": null,
   "outputs": [],
   "source": [],
   "metadata": {
    "collapsed": false,
    "pycharm": {
     "name": "#%%\n"
    }
   }
  }
 ],
 "metadata": {
  "kernelspec": {
   "name": "python3",
   "language": "python",
   "display_name": "Python 3"
  },
  "language_info": {
   "codemirror_mode": {
    "name": "ipython",
    "version": 2
   },
   "file_extension": ".py",
   "mimetype": "text/x-python",
   "name": "python",
   "nbconvert_exporter": "python",
   "pygments_lexer": "ipython2",
   "version": "2.7.6"
  },
  "pycharm": {
   "stem_cell": {
    "cell_type": "raw",
    "source": [],
    "metadata": {
     "collapsed": false
    }
   }
  }
 },
 "nbformat": 4,
 "nbformat_minor": 0
}