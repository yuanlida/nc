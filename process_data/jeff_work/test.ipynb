{
 "cells": [
  {
   "cell_type": "code",
   "execution_count": 23,
   "metadata": {
    "collapsed": true,
    "pycharm": {
     "is_executing": false
    }
   },
   "outputs": [
    {
     "name": "stderr",
     "text": [
      "100%|██████████| 86/86 [00:00<00:00, 22153.92it/s]\n"
     ],
     "output_type": "stream"
    },
    {
     "name": "stdout",
     "text": [
      "start!\n"
     ],
     "output_type": "stream"
    }
   ],
   "source": [
    "import pandas as pd\n",
    "from tqdm import tqdm\n",
    "import regex as re\n",
    "\n",
    "print('start!')\n",
    "qa_file = '/Users/macos/Desktop/Edison-ai/ner-tflite/qa_test/SigWeb/0327/fail_info.xls'\n",
    "# baby_file = '/Users/macos/Desktop/Edison-ai/data/ner/names/us-baby-names/StateNames.csv'\n",
    "qa_out = '/Users/macos/thunder/ner-tf/cls_data/qa/qa.txt'\n",
    "qa_per = '/Users/macos/thunder/ner-tf/cls_data/qa/qa_per.txt'\n",
    "qa_org = '/Users/macos/thunder/ner-tf/cls_data/qa/qa_org.txt'\n",
    "qa_loc = '/Users/macos/thunder/ner-tf/cls_data/qa/qa_loc.txt'\n",
    "qa_tel = '/Users/macos/thunder/ner-tf/cls_data/qa/qa_tel.txt'\n",
    "qa_tit = '/Users/macos/thunder/ner-tf/cls_data/qa/qa_tit.txt'\n",
    "\n",
    "def list_ext(list):\n",
    "    for ele in list:\n",
    "        w.writelines(ele)\n",
    "        w.writelines('\\n')\n",
    "\n",
    "\n",
    "\n",
    "pd.set_option('display.max_rows', 1000)\n",
    "df = pd.read_excel(qa_file)\n",
    "# df.head()\n",
    "with open(qa_out, 'w') as w, open(qa_per, 'w') as a, open(qa_loc, 'w') as b,\\\n",
    "    open(qa_org, 'w') as c, open(qa_tit, 'w') as d, open(qa_tel, 'w') as e:\n",
    "    # body = (df['STREET'])\n",
    "    names = (df['exp'])\n",
    "    # try:\n",
    "    for name in tqdm(names):\n",
    "        # print(occ)\n",
    "        per = re.search('PER:\\[(.+?)\\],LOC', name)\n",
    "        if per:\n",
    "            found1 = per.group(1)\n",
    "            found1 = found1.split('\", ')\n",
    "            # found1 = re.sub('[\\\"\\\"]', '',found1)\n",
    "            for ele in found1:\n",
    "                ele = re.sub('[\\\"\\\"]', '',ele)\n",
    "                w.writelines(ele)\n",
    "                w.writelines('\\n')\n",
    "                a.writelines(ele)\n",
    "                a.writelines('\\n')\n",
    "            # w.writelines(found1)\n",
    "            # w.writelines('\\n')\n",
    "            \n",
    "        else:\n",
    "            continue\n",
    "\n",
    "        loc = re.search('LOC:\\[(.+?)\\],ORG', name)\n",
    "        if loc:\n",
    "            found2 = loc.group(1)\n",
    "            found2 = found2.split('\", ')\n",
    "            for ele in found2:\n",
    "                ele = re.sub('[\\\"\\\"]', '',ele)\n",
    "            w.writelines(ele)\n",
    "            w.writelines('\\n')\n",
    "            b.writelines(ele)\n",
    "            b.writelines('\\n')\n",
    "        else:\n",
    "            continue\n",
    "\n",
    "\n",
    "        org = re.search('ORG:\\[(.+?)\\],TIT', name)\n",
    "        if org:\n",
    "            found3 = org.group(1)\n",
    "            found3 = found3.split('\", ')\n",
    "            for ele in found3:\n",
    "                ele = re.sub('[\\\"\\\"]', '',ele)\n",
    "            w.writelines(ele)\n",
    "            w.writelines('\\n')\n",
    "            c.writelines(ele)\n",
    "            c.writelines('\\n')\n",
    "        else:\n",
    "            continue\n",
    "\n",
    "        tit = re.search('TIT:\\[(.+?)\\],TEL', name)\n",
    "        if tit:\n",
    "            found4 = tit.group(1)\n",
    "            found4 = found4.split('\", ')\n",
    "            for ele in found4:\n",
    "                ele = re.sub('[\\\"\\\"]', '',ele)\n",
    "            w.writelines(ele)\n",
    "            w.writelines('\\n')\n",
    "            d.writelines(ele)\n",
    "            d.writelines('\\n')\n",
    "        else:\n",
    "            continue\n",
    "        tel = re.search('TEL:\\[(.+?)]\\]', name)\n",
    "        if tel:\n",
    "            found5 = tel.group(1)\n",
    "            found5 = found5.split('\", ')\n",
    "            for ele in found5:\n",
    "                ele = re.sub('[\\\"\\\"]', '',ele)\n",
    "            w.writelines(ele)\n",
    "            w.writelines('\\n')\n",
    "            e.writelines(ele)\n",
    "            e.writelines('\\n')\n",
    "        else:\n",
    "            continue\n",
    "\n",
    "    # except:\n",
    "    #     print('error!')\n",
    "    #     pass\n"
   ]
  },
  {
   "cell_type": "code",
   "execution_count": 5,
   "outputs": [
    {
     "name": "stdout",
     "text": [
      "CC\n"
     ],
     "output_type": "stream"
    }
   ],
   "source": [
    "import random\n",
    "import string\n",
    "ans = random.choice(string.ascii_uppercase)\n",
    "print(ans +  ans)"
   ],
   "metadata": {
    "collapsed": false,
    "pycharm": {
     "name": "#%%\n",
     "is_executing": false
    }
   }
  }
 ],
 "metadata": {
  "kernelspec": {
   "display_name": "Python 3",
   "language": "python",
   "name": "python3"
  },
  "language_info": {
   "codemirror_mode": {
    "name": "ipython",
    "version": 2
   },
   "file_extension": ".py",
   "mimetype": "text/x-python",
   "name": "python",
   "nbconvert_exporter": "python",
   "pygments_lexer": "ipython2",
   "version": "2.7.6"
  },
  "pycharm": {
   "stem_cell": {
    "cell_type": "raw",
    "source": [],
    "metadata": {
     "collapsed": false
    }
   }
  }
 },
 "nbformat": 4,
 "nbformat_minor": 0
}