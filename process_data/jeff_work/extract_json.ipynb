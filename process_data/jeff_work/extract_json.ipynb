{
 "cells": [
  {
   "cell_type": "code",
   "execution_count": 7,
   "metadata": {
    "collapsed": true,
    "pycharm": {
     "name": "#%%\n",
     "is_executing": false
    }
   },
   "outputs": [],
   "source": [
    "# parsed_json = (json.loads(json_dir))\n",
    "# print(json.dumps(parsed_json, indent=4, sort_keys=True))"
   ]
  },
  {
   "cell_type": "code",
   "execution_count": 14,
   "outputs": [
    {
     "name": "stderr",
     "text": [
      "100%|██████████| 248/248 [00:00<00:00, 11123.57it/s]\n"
     ],
     "output_type": "stream"
    },
    {
     "name": "stdout",
     "text": [
      "ok\n"
     ],
     "output_type": "stream"
    }
   ],
   "source": [
    "from tqdm import tqdm\n",
    "import json\n",
    "json_dir = '/Users/macos/thunder/ner-tf/jeff_work/world.json'\n",
    "world_out = '/Users/macos/thunder/ner-tf/jeff_work/world.txt'\n",
    "json_dir = '/Users/macos/thunder/ner-tf/jeff_work/world.json'\n",
    "\n",
    "with open (json_dir, 'r') as r, open(world_out, 'w') as w:\n",
    "    body = json.load(r)\n",
    "    # print(body)\n",
    "    # for country in tqdm(body):\n",
    "    #     # print(country['countryName'])\n",
    "    #     w.writelines(country['countryName'])\n",
    "    #     w.writelines('\\n')\n",
    "    #     for region in (country['regions']):\n",
    "    #         # print(region['name'])\n",
    "    #         w.writelines(region['name'])\n",
    "    #         w.writelines('\\n')\n",
    "    for country in tqdm(body['CountryName']):\n",
    "        # print(country['countryName'])\n",
    "        w.writelines(country['countryName'])\n",
    "        w.writelines('\\n')\n",
    "        for region in (country['regions']):\n",
    "            # print(region['name'])\n",
    "            w.writelines(region['name'])\n",
    "            w.writelines('\\n')\n",
    "print('ok')"
   ],
   "metadata": {
    "collapsed": false,
    "pycharm": {
     "name": "#%%\n",
     "is_executing": false
    }
   }
  },
  {
   "cell_type": "code",
   "execution_count": 18,
   "outputs": [],
   "source": [
    "import json\n",
    "import tqdm\n",
    "us_json = '/Users/macos/thunder/ner-tf/jeff_work/addresses-us.json'\n",
    "us_add = '/Users/macos/thunder/ner-tf/cls_data/extra/us_add.txt'\n",
    "\n",
    "## Location generation based\n",
    "# 7 W . Bridge Rd . , Oswego , New York , 13126 \n",
    "# 445 St . Paul St . , Rochester , New York , 14605 \n",
    "# 411 Cornelia St . , Plattsburgh , New York , 12901 \n",
    "# 223 Reindollar Ave . , Marina , California , 93933\n",
    "# 1200 Roseville Pkwy . , Roseville , California , 95678\n",
    "# 10450 Friar ' s Road - Suite L , San Diego , California , 92120\n",
    "\n",
    "with open (us_json, 'r') as r, open(us_add, 'w') as w:\n",
    "    body = json.load(r)\n",
    "    # for com in tqdm(body):\n",
    "    com = (body['addresses'])\n",
    "    for n,ele in enumerate(com):\n",
    "        try:\n",
    "            add = ele['address1']\n",
    "            city = ele['city']\n",
    "            state = ele ['state']\n",
    "            post = ele['postalCode']\n",
    "            full = add + \" , \" + city + \" , \" + state + \" , \" + post\n",
    "            w.writelines(full)\n",
    "            w.writelines('\\n')\n",
    "            \n",
    "        except:\n",
    "            print('error', n, add,) \n",
    "        # state = ele ['state']\n",
    "        # post = ele['postalCode']\n",
    "        # full = add + \" , \" + city + \" , \" + state + \" ,\" + post\n",
    "        # w.writelines(full)\n",
    "        # w.writelines('\\n')"
   ],
   "metadata": {
    "collapsed": false,
    "pycharm": {
     "name": "#%%\n",
     "is_executing": false
    }
   }
  },
  {
   "cell_type": "code",
   "execution_count": null,
   "outputs": [],
   "source": [
    "## extract UK loc data\n",
    "import json\n",
    "from tqdm import tqdm\n",
    "\n",
    "uk_json = '/Users/macos/thunder/ner-tf/jeff_work/uk.json'\n",
    "uk_json2 = '/Users/macos/thunder/ner-tf/jeff_work/uk2.json'\n",
    "uk_json3 = '/Users/macos/thunder/ner-tf/jeff_work/uk3.json'\n",
    "uk_json4 = '/Users/macos/thunder/ner-tf/jeff_work/uk4.json'\n",
    "uk_out = '/Users/macos/thunder/ner-tf/jeff_work/uk.txt'\n",
    "\n",
    "def extract_json(dir):\n",
    "    with open (dir, 'r') as r:\n",
    "        body = json.load(r)\n",
    "        for country in tqdm(body.values()):\n",
    "            w.writelines(country)\n",
    "            w.writelines('\\n')\n",
    "            \n",
    "with open(uk_out, 'w') as w:\n",
    "    extract_json(uk_json)\n",
    "    extract_json(uk_json2)\n",
    "    extract_json(uk_json3)\n",
    "    extract_json(uk_json4)\n",
    "\n",
    "\n",
    "print('ok')"
   ],
   "metadata": {
    "collapsed": false,
    "pycharm": {
     "name": "#%%\n"
    }
   }
  },
  {
   "cell_type": "code",
   "execution_count": null,
   "outputs": [],
   "source": [
    "        \n",
    "        \n",
    "\n",
    "\n"
   ],
   "metadata": {
    "collapsed": false,
    "pycharm": {
     "name": "#%%        \n"
    }
   }
  }
 ],
 "metadata": {
  "kernelspec": {
   "display_name": "Python 3",
   "language": "python",
   "name": "python3"
  },
  "language_info": {
   "codemirror_mode": {
    "name": "ipython",
    "version": 2
   },
   "file_extension": ".py",
   "mimetype": "text/x-python",
   "name": "python",
   "nbconvert_exporter": "python",
   "pygments_lexer": "ipython2",
   "version": "2.7.6"
  },
  "pycharm": {
   "stem_cell": {
    "cell_type": "raw",
    "source": [],
    "metadata": {
     "collapsed": false
    }
   }
  }
 },
 "nbformat": 4,
 "nbformat_minor": 0
}