{
 "cells": [
  {
   "cell_type": "code",
   "execution_count": 20,
   "metadata": {
    "collapsed": true,
    "pycharm": {
     "is_executing": false
    }
   },
   "outputs": [
    {
     "name": "stdout",
     "text": [
      "\n",
      "Best,Jonathan\n",
      "Be sure to follow @Edison_Apps on Twitter and Instagram!\n",
      "\n",
      "\n",
      "Be sure to follow @Edison_Apps on Twitter and Instagram!\n",
      "\n"
     ],
     "output_type": "stream"
    }
   ],
   "source": [
    "import os\n",
    "from bs4 import BeautifulSoup, Doctype\n",
    "import codecs\n",
    "\n",
    "# from process_data.test import get_sig\n",
    "\n",
    "output_txt = \"./email_all.txt\"\n",
    "\n",
    "directory = '/Users/macos/Desktop/Edison-ai/data/bodis'\n",
    "input_file = \"/Users/macos/Downloads/\"\n",
    "fname = \"/Users/macos/Downloads/0a1b9b14af1fe9a98d917a507dbb17ea.html\"\n",
    "doc = []\n",
    "\n",
    "file = codecs.open(fname, \"r\", \"utf-8\")       \n",
    "# html = file.read()\n",
    "soup2 = BeautifulSoup(file, 'html.parser')\n",
    "text = soup2.findAll(\"div\", class_= \"signature\")\n",
    "# print(text)\n",
    "for strings in text:\n",
    "    \n",
    "    print(strings.get_text())\n"
   ]
  },
  {
   "cell_type": "code",
   "execution_count": 16,
   "outputs": [
    {
     "name": "stderr",
     "text": [
      "100%|██████████| 52610/52610 [10:48<00:00, 81.10it/s] \n"
     ],
     "output_type": "stream"
    }
   ],
   "source": [
    "import os\n",
    "from bs4 import BeautifulSoup, Doctype\n",
    "import codecs\n",
    "from tqdm import tqdm\n",
    "import re\n",
    "\n",
    "# from process_data.test import get_sig\n",
    "\n",
    "output_txt = \"./email_all.txt\"\n",
    "\n",
    "directory = '/Users/macos/Desktop/Edison-ai/data/bodis'\n",
    "input_file = \"/Users/macos/Downloads/\"\n",
    "\n",
    "doc = []\n",
    "n = 0\n",
    "for root, dirnames, filenames in os.walk(directory):\n",
    "    for n, filename in enumerate(tqdm(filenames)):\n",
    "        # if n < 100:\n",
    "            if filename.endswith('.html'):\n",
    "                fname = os.path.join(root, filename)\n",
    "                # print('Filename: {}'.format(fname))\n",
    "                # sig_lines = get_sig(fname)\n",
    "                # with open(fname) as handle:\n",
    "                file = codecs.open(fname, \"r\", \"utf-8\")       \n",
    "                # html = file.read()\n",
    "                soup2 = BeautifulSoup(file, 'html.parser')\n",
    "                text = soup2.findAll(\"div\", class_= \"signature\")\n",
    "                for strings in text:\n",
    "                    n += 1\n",
    "                    body = strings.get_text()\n",
    "                    # label = \"######\" + str(n)\n",
    "                    # doc.append(label)\n",
    "                    doc.append(body)\n",
    "                    # print(strings)\n",
    "                    # body = strings.get_text()\n",
    "                    # for line in body:\n",
    "                    #     line = line.replace(\"  \",\"\")\n",
    "                    #     doc.append(line)\n",
    "                    #     text+= line\n",
    "                    #     # print(repr(line))\n",
    "                    # print(text)\n",
    "    # else:\n",
    "    #     break\n",
    "        \n",
    "# print()\n",
    "lines_seen = set()\n",
    "with open(output_txt, 'w') as w:\n",
    "    for i,line in enumerate(doc):\n",
    "        w.writelines('########' + str(i))\n",
    "        if line not in lines_seen and line != '\\n':\n",
    "            lines_seen.add(line)\n",
    "            line_split = re.findall(r\"\\w+|[^\\w\\s]\", line, re.UNICODE)\n",
    "            # for word in line.split():\n",
    "            for word in line_split:\n",
    "                # w.writelines('########' + str(n))\n",
    "                w.writelines(word)\n",
    "                w.writelines('\\n')\n",
    "            w.writelines('\\n')\n",
    "                "
   ],
   "metadata": {
    "collapsed": false,
    "pycharm": {
     "name": "#%%\n",
     "is_executing": false
    }
   }
  },
  {
   "cell_type": "code",
   "execution_count": 11,
   "outputs": [
    {
     "name": "stdout",
     "text": [
      "52609\n"
     ],
     "output_type": "stream"
    }
   ],
   "source": [
    "print(n)"
   ],
   "metadata": {
    "collapsed": false,
    "pycharm": {
     "name": "#%%\n",
     "is_executing": false
    }
   }
  },
  {
   "cell_type": "code",
   "execution_count": null,
   "outputs": [],
   "source": [
    "import os\n",
    "from bs4 import BeautifulSoup, Doctype\n",
    "import codecs\n",
    "from tqdm import tqdm\n",
    "import re\n",
    "\n",
    "# from process_data.test import get_sig\n",
    "\n",
    "output_txt = \"./email_all.txt\"\n",
    "\n",
    "directory = '/Users/macos/Desktop/Edison-ai/data/bodis'\n",
    "input_file = \"/Users/macos/Downloads/\"\n",
    "\n",
    "doc = []\n",
    "n = 0\n",
    "for root, dirnames, filenames in os.walk(directory):\n",
    "    for n, filename in enumerate(tqdm(filenames)):\n",
    "        # if n < 100:\n",
    "            if filename.endswith('.html'):\n",
    "                fname = os.path.join(root, filename)\n",
    "                # print('Filename: {}'.format(fname))\n",
    "                # sig_lines = get_sig(fname)\n",
    "                # with open(fname) as handle:\n",
    "                file = codecs.open(fname, \"r\", \"utf-8\")       \n",
    "                # html = file.read()\n",
    "                soup2 = BeautifulSoup(file, 'html.parser')\n",
    "                text = soup2.findAll(\"div\", class_= \"signature\")\n",
    "                for strings in text:\n",
    "                    n += 1\n",
    "                    body = strings.get_text()\n",
    "                    # label = \"######\" + str(n)\n",
    "                    # doc.append(label)\n",
    "                    doc.append(body)\n",
    "                    # print(strings)\n",
    "                    # body = strings.get_text()\n",
    "                    # for line in body:\n",
    "                    #     line = line.replace(\"  \",\"\")\n",
    "                    #     doc.append(line)\n",
    "                    #     text+= line\n",
    "                    #     # print(repr(line))\n",
    "                    # print(text)"
   ],
   "metadata": {
    "collapsed": false,
    "pycharm": {
     "name": "#%%\n"
    }
   }
  },
  {
   "cell_type": "code",
   "execution_count": 13,
   "outputs": [
    {
     "name": "stdout",
     "text": [
      "['######52609']\n"
     ],
     "output_type": "stream"
    }
   ],
   "source": [
    "rock = []\n",
    "label = \"######\" + str(n)\n",
    "rock.append(label)\n",
    "# , +str(n))\n",
    "print(rock)"
   ],
   "metadata": {
    "collapsed": false,
    "pycharm": {
     "name": "#%%\n",
     "is_executing": false
    }
   }
  }
 ],
 "metadata": {
  "kernelspec": {
   "display_name": "Python 3",
   "language": "python",
   "name": "python3"
  },
  "language_info": {
   "codemirror_mode": {
    "name": "ipython",
    "version": 2
   },
   "file_extension": ".py",
   "mimetype": "text/x-python",
   "name": "python",
   "nbconvert_exporter": "python",
   "pygments_lexer": "ipython2",
   "version": "2.7.6"
  },
  "pycharm": {
   "stem_cell": {
    "cell_type": "raw",
    "source": [],
    "metadata": {
     "collapsed": false
    }
   }
  }
 },
 "nbformat": 4,
 "nbformat_minor": 0
}